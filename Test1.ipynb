{
 "cells": [
  {
   "cell_type": "code",
   "execution_count": null,
   "metadata": {},
   "outputs": [],
   "source": [
    "\n",
    "import   math\n",
    "def    main():\n",
    "    x = 60\n",
    "    y = math.radians(x) # convert form degrees to radians\n",
    "    d = math.degrees(y)   # convert form radians to degrees\n",
    "    print(x, 'in degress  =  ',y ,'in radians', 'back to degrees = ', d)\n",
    "    z = math.cos(y) \n",
    "    print ('cos(y)  = ', z ,'   z  =  ', math.acos(z))   \n",
    "    z = math.sin(y)\n",
    "    print ('sin(y)  = ',  z,'   z   =  ', math.asin(z))\n",
    "    z = math.tan(y)\n",
    "    print ('tan(y)  = ',  z,'   z   =  ', math.atan(z))\n",
    "    pwr = 10\n",
    "    ngvx = -10.8\n",
    "    n = 4\n",
    "    print('e**pwr =  ',math.exp(pwr))\n",
    "    print('absolute value of : ',ngvx, ' =', math.fabs(ngvx))\n",
    "    print('factorial of n (n!) = ', math.factorial(n))\n",
    "    x = 10.7\n",
    "    print('the floor of ',x,' =  ', math.floor(x))\n",
    "    print('the ceiling of  ',x,'  = ',math.ceil(x))\n",
    "    x = 19\n",
    "    y = 3\n",
    "    print('fmod(x,y)  = ', math.fmod(x,y),'  x % y = ', x%y)\n",
    "    print('True if x is not a number otherwise False .. x = ',x,math.isnan(x))\n",
    "    x = 100\n",
    "    base =10\n",
    "    print('the logarithm of ',x,' to the given base ',base , '  = ', math.log(x,base))\n",
    "    x = 19.76\n",
    "    fr,itg = math.modf(x)\n",
    "    print('return the fractional and integer parts of : ', x, ' : the fractional part = ','%5.2f ' %fr, ' the integer         part = ', '%5.2f' %itg)\n",
    "    base = 9\n"
   ]
  }
 ],
 "metadata": {
  "language_info": {
   "name": "python"
  },
  "orig_nbformat": 4
 },
 "nbformat": 4,
 "nbformat_minor": 2
}
